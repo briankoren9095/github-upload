{
 "cells": [
  {
   "cell_type": "code",
   "execution_count": 1,
   "metadata": {},
   "outputs": [],
   "source": [
    "import pandas as pd\n",
    "import numpy as np\n",
    "import matplotlib.pyplot as plt\n",
    "import seaborn as sns"
   ]
  },
  {
   "cell_type": "code",
   "execution_count": 2,
   "metadata": {},
   "outputs": [],
   "source": [
    "df = pd.read_excel('2019-10-24 SAP Work Order & Notification Report.xlsx',sheet_name='INFO')"
   ]
  },
  {
   "cell_type": "code",
   "execution_count": 3,
   "metadata": {},
   "outputs": [
    {
     "data": {
      "text/html": [
       "<div>\n",
       "<style scoped>\n",
       "    .dataframe tbody tr th:only-of-type {\n",
       "        vertical-align: middle;\n",
       "    }\n",
       "\n",
       "    .dataframe tbody tr th {\n",
       "        vertical-align: top;\n",
       "    }\n",
       "\n",
       "    .dataframe thead th {\n",
       "        text-align: right;\n",
       "    }\n",
       "</style>\n",
       "<table border=\"1\" class=\"dataframe\">\n",
       "  <thead>\n",
       "    <tr style=\"text-align: right;\">\n",
       "      <th></th>\n",
       "      <th>Maintenance Plan</th>\n",
       "      <th>Equipment</th>\n",
       "      <th>Manual/ Auto</th>\n",
       "      <th>Order</th>\n",
       "      <th>Notification</th>\n",
       "      <th>Header text:</th>\n",
       "      <th>Created on</th>\n",
       "      <th>Sort field</th>\n",
       "      <th>Description of Technical Object</th>\n",
       "      <th>Description</th>\n",
       "      <th>...</th>\n",
       "      <th>ABC indicator</th>\n",
       "      <th>User Status</th>\n",
       "      <th>System status</th>\n",
       "      <th>Priority</th>\n",
       "      <th>Estimated costs</th>\n",
       "      <th>Total planned costs</th>\n",
       "      <th>Total actual costs</th>\n",
       "      <th>Basic start date</th>\n",
       "      <th>Basic finish date</th>\n",
       "      <th>MaintActivityType</th>\n",
       "    </tr>\n",
       "  </thead>\n",
       "  <tbody>\n",
       "    <tr>\n",
       "      <td>0</td>\n",
       "      <td>BL1000001170</td>\n",
       "      <td>BL000000005-10-035</td>\n",
       "      <td>AUTO</td>\n",
       "      <td>913195093</td>\n",
       "      <td>713335025.0</td>\n",
       "      <td>* 09/19/2016 19:04:48 rick kessler (FNP_050408...</td>\n",
       "      <td>2016-09-19</td>\n",
       "      <td>005-10-035 FRCD DRFT FA</td>\n",
       "      <td>FORCED DRAFT FAN</td>\n",
       "      <td>15-002600-000, Remove valve and free up</td>\n",
       "      <td>...</td>\n",
       "      <td>E</td>\n",
       "      <td>COMP</td>\n",
       "      <td>CLSD DLFL NCMP NMAT PRC  SKKP</td>\n",
       "      <td>4</td>\n",
       "      <td>NaN</td>\n",
       "      <td>NaN</td>\n",
       "      <td>NaN</td>\n",
       "      <td>NaT</td>\n",
       "      <td>NaT</td>\n",
       "      <td>NaN</td>\n",
       "    </tr>\n",
       "    <tr>\n",
       "      <td>1</td>\n",
       "      <td>Not Planned</td>\n",
       "      <td>BL000000101-12-206</td>\n",
       "      <td>MANUAL</td>\n",
       "      <td>913195171</td>\n",
       "      <td>713335093.0</td>\n",
       "      <td>* 09/19/2016 19:13:49 rick kessler (FNP_050408...</td>\n",
       "      <td>2016-09-19</td>\n",
       "      <td>101-12-206 LN 2 PLLTIZE</td>\n",
       "      <td>LINE 2 PELLETIZER</td>\n",
       "      <td>16-001987-000, 101-12-206 LINE 2 PELLETI</td>\n",
       "      <td>...</td>\n",
       "      <td>E</td>\n",
       "      <td>COMP</td>\n",
       "      <td>CLSD ESTC NCMP NMAT PRC  SKKP</td>\n",
       "      <td>3</td>\n",
       "      <td>NaN</td>\n",
       "      <td>NaN</td>\n",
       "      <td>NaN</td>\n",
       "      <td>NaT</td>\n",
       "      <td>NaT</td>\n",
       "      <td>NaN</td>\n",
       "    </tr>\n",
       "    <tr>\n",
       "      <td>2</td>\n",
       "      <td>Not Planned</td>\n",
       "      <td>BL000000104-09-851</td>\n",
       "      <td>MANUAL</td>\n",
       "      <td>913195174</td>\n",
       "      <td>713335096.0</td>\n",
       "      <td>* 09/19/2016 19:14:44 rick kessler (FNP_050408...</td>\n",
       "      <td>2016-09-19</td>\n",
       "      <td>104-09-851 FC1 POLY</td>\n",
       "      <td>PUMP, FLASH CHAMBER 1 POLYMER</td>\n",
       "      <td>16-002676-000, 104-09-851 FC1 POLY, Insp</td>\n",
       "      <td>...</td>\n",
       "      <td>E</td>\n",
       "      <td>COMP</td>\n",
       "      <td>CLSD DLFL NCMP NMAT PRC</td>\n",
       "      <td>4</td>\n",
       "      <td>NaN</td>\n",
       "      <td>NaN</td>\n",
       "      <td>NaN</td>\n",
       "      <td>NaT</td>\n",
       "      <td>NaT</td>\n",
       "      <td>NaN</td>\n",
       "    </tr>\n",
       "    <tr>\n",
       "      <td>3</td>\n",
       "      <td>Not Planned</td>\n",
       "      <td>BL000000154-12-730</td>\n",
       "      <td>MANUAL</td>\n",
       "      <td>913195175</td>\n",
       "      <td>713335097.0</td>\n",
       "      <td>* 09/19/2016 19:14:57 rick kessler (FNP_050408...</td>\n",
       "      <td>2016-09-19</td>\n",
       "      <td>154-12-730 BD EXTRUDER</td>\n",
       "      <td>BD EXTRUDER</td>\n",
       "      <td>16-002683-000, 154-12-730 BD EXTRUDER, I</td>\n",
       "      <td>...</td>\n",
       "      <td>E</td>\n",
       "      <td>COMP</td>\n",
       "      <td>CLSD ESTC MSCP NMAT PRC  SETC SKKP</td>\n",
       "      <td>3</td>\n",
       "      <td>NaN</td>\n",
       "      <td>NaN</td>\n",
       "      <td>NaN</td>\n",
       "      <td>NaT</td>\n",
       "      <td>NaT</td>\n",
       "      <td>NaN</td>\n",
       "    </tr>\n",
       "    <tr>\n",
       "      <td>4</td>\n",
       "      <td>BL1000001170</td>\n",
       "      <td>BL000000101-12-206</td>\n",
       "      <td>AUTO</td>\n",
       "      <td>913195180</td>\n",
       "      <td>713335112.0</td>\n",
       "      <td>* 09/19/2016 19:16:05 rick kessler (FNP_050408...</td>\n",
       "      <td>2016-09-19</td>\n",
       "      <td>101-12-206 LN 2 PLLTIZE</td>\n",
       "      <td>LINE 2 PELLETIZER</td>\n",
       "      <td>16-002984-000, 101-12-206 LINE 2 PELLETI</td>\n",
       "      <td>...</td>\n",
       "      <td>E</td>\n",
       "      <td>COMP</td>\n",
       "      <td>CLSD ESTC MSCP NMAT PRC  SETC SKKP</td>\n",
       "      <td>3</td>\n",
       "      <td>NaN</td>\n",
       "      <td>NaN</td>\n",
       "      <td>NaN</td>\n",
       "      <td>NaT</td>\n",
       "      <td>NaT</td>\n",
       "      <td>NaN</td>\n",
       "    </tr>\n",
       "  </tbody>\n",
       "</table>\n",
       "<p>5 rows × 22 columns</p>\n",
       "</div>"
      ],
      "text/plain": [
       "  Maintenance Plan           Equipment Manual/ Auto      Order  Notification  \\\n",
       "0     BL1000001170  BL000000005-10-035         AUTO  913195093   713335025.0   \n",
       "1      Not Planned  BL000000101-12-206       MANUAL  913195171   713335093.0   \n",
       "2      Not Planned  BL000000104-09-851       MANUAL  913195174   713335096.0   \n",
       "3      Not Planned  BL000000154-12-730       MANUAL  913195175   713335097.0   \n",
       "4     BL1000001170  BL000000101-12-206         AUTO  913195180   713335112.0   \n",
       "\n",
       "                                        Header text: Created on  \\\n",
       "0  * 09/19/2016 19:04:48 rick kessler (FNP_050408... 2016-09-19   \n",
       "1  * 09/19/2016 19:13:49 rick kessler (FNP_050408... 2016-09-19   \n",
       "2  * 09/19/2016 19:14:44 rick kessler (FNP_050408... 2016-09-19   \n",
       "3  * 09/19/2016 19:14:57 rick kessler (FNP_050408... 2016-09-19   \n",
       "4  * 09/19/2016 19:16:05 rick kessler (FNP_050408... 2016-09-19   \n",
       "\n",
       "                Sort field Description of Technical Object  \\\n",
       "0  005-10-035 FRCD DRFT FA                FORCED DRAFT FAN   \n",
       "1  101-12-206 LN 2 PLLTIZE               LINE 2 PELLETIZER   \n",
       "2      104-09-851 FC1 POLY   PUMP, FLASH CHAMBER 1 POLYMER   \n",
       "3   154-12-730 BD EXTRUDER                     BD EXTRUDER   \n",
       "4  101-12-206 LN 2 PLLTIZE               LINE 2 PELLETIZER   \n",
       "\n",
       "                                Description  ... ABC indicator User Status  \\\n",
       "0   15-002600-000, Remove valve and free up  ...             E        COMP   \n",
       "1  16-001987-000, 101-12-206 LINE 2 PELLETI  ...             E        COMP   \n",
       "2  16-002676-000, 104-09-851 FC1 POLY, Insp  ...             E        COMP   \n",
       "3  16-002683-000, 154-12-730 BD EXTRUDER, I  ...             E        COMP   \n",
       "4  16-002984-000, 101-12-206 LINE 2 PELLETI  ...             E        COMP   \n",
       "\n",
       "                        System status Priority Estimated costs  \\\n",
       "0       CLSD DLFL NCMP NMAT PRC  SKKP        4             NaN   \n",
       "1       CLSD ESTC NCMP NMAT PRC  SKKP        3             NaN   \n",
       "2             CLSD DLFL NCMP NMAT PRC        4             NaN   \n",
       "3  CLSD ESTC MSCP NMAT PRC  SETC SKKP        3             NaN   \n",
       "4  CLSD ESTC MSCP NMAT PRC  SETC SKKP        3             NaN   \n",
       "\n",
       "   Total planned costs  Total actual costs  Basic start date  \\\n",
       "0                  NaN                 NaN               NaT   \n",
       "1                  NaN                 NaN               NaT   \n",
       "2                  NaN                 NaN               NaT   \n",
       "3                  NaN                 NaN               NaT   \n",
       "4                  NaN                 NaN               NaT   \n",
       "\n",
       "   Basic finish date MaintActivityType  \n",
       "0                NaT               NaN  \n",
       "1                NaT               NaN  \n",
       "2                NaT               NaN  \n",
       "3                NaT               NaN  \n",
       "4                NaT               NaN  \n",
       "\n",
       "[5 rows x 22 columns]"
      ]
     },
     "execution_count": 3,
     "metadata": {},
     "output_type": "execute_result"
    }
   ],
   "source": [
    "df.head()"
   ]
  },
  {
   "cell_type": "code",
   "execution_count": 4,
   "metadata": {},
   "outputs": [],
   "source": [
    "# cerate datetime index around the created on date\n",
    "# refer to 01 Keras regression \n",
    "# find the amount of manual maintenances per year \n",
    "# normalize the data around point that sees data even out (data for maintenances is slow at first but then normalizes)\n",
    "# manual maintenacnes per month --- this makes more sense ---\n",
    "# manual maintenances per year"
   ]
  },
  {
   "cell_type": "code",
   "execution_count": 4,
   "metadata": {},
   "outputs": [
    {
     "data": {
      "text/html": [
       "<div>\n",
       "<style scoped>\n",
       "    .dataframe tbody tr th:only-of-type {\n",
       "        vertical-align: middle;\n",
       "    }\n",
       "\n",
       "    .dataframe tbody tr th {\n",
       "        vertical-align: top;\n",
       "    }\n",
       "\n",
       "    .dataframe thead th {\n",
       "        text-align: right;\n",
       "    }\n",
       "</style>\n",
       "<table border=\"1\" class=\"dataframe\">\n",
       "  <thead>\n",
       "    <tr style=\"text-align: right;\">\n",
       "      <th></th>\n",
       "      <th>Maintenance Plan</th>\n",
       "      <th>Equipment</th>\n",
       "      <th>Manual/ Auto</th>\n",
       "      <th>Order</th>\n",
       "      <th>Notification</th>\n",
       "      <th>Header text:</th>\n",
       "      <th>Created on</th>\n",
       "      <th>Sort field</th>\n",
       "      <th>Description of Technical Object</th>\n",
       "      <th>Description</th>\n",
       "      <th>...</th>\n",
       "      <th>System status</th>\n",
       "      <th>Priority</th>\n",
       "      <th>Estimated costs</th>\n",
       "      <th>Total planned costs</th>\n",
       "      <th>Total actual costs</th>\n",
       "      <th>Basic start date</th>\n",
       "      <th>Basic finish date</th>\n",
       "      <th>MaintActivityType</th>\n",
       "      <th>Month</th>\n",
       "      <th>Year</th>\n",
       "    </tr>\n",
       "  </thead>\n",
       "  <tbody>\n",
       "    <tr>\n",
       "      <td>0</td>\n",
       "      <td>BL1000001170</td>\n",
       "      <td>BL000000005-10-035</td>\n",
       "      <td>AUTO</td>\n",
       "      <td>913195093</td>\n",
       "      <td>713335025.0</td>\n",
       "      <td>* 09/19/2016 19:04:48 rick kessler (FNP_050408...</td>\n",
       "      <td>2016-09-19</td>\n",
       "      <td>005-10-035 FRCD DRFT FA</td>\n",
       "      <td>FORCED DRAFT FAN</td>\n",
       "      <td>15-002600-000, Remove valve and free up</td>\n",
       "      <td>...</td>\n",
       "      <td>CLSD DLFL NCMP NMAT PRC  SKKP</td>\n",
       "      <td>4</td>\n",
       "      <td>NaN</td>\n",
       "      <td>NaN</td>\n",
       "      <td>NaN</td>\n",
       "      <td>NaT</td>\n",
       "      <td>NaT</td>\n",
       "      <td>NaN</td>\n",
       "      <td>9</td>\n",
       "      <td>2016</td>\n",
       "    </tr>\n",
       "  </tbody>\n",
       "</table>\n",
       "<p>1 rows × 24 columns</p>\n",
       "</div>"
      ],
      "text/plain": [
       "  Maintenance Plan           Equipment Manual/ Auto      Order  Notification  \\\n",
       "0     BL1000001170  BL000000005-10-035         AUTO  913195093   713335025.0   \n",
       "\n",
       "                                        Header text: Created on  \\\n",
       "0  * 09/19/2016 19:04:48 rick kessler (FNP_050408... 2016-09-19   \n",
       "\n",
       "                Sort field Description of Technical Object  \\\n",
       "0  005-10-035 FRCD DRFT FA                FORCED DRAFT FAN   \n",
       "\n",
       "                               Description  ...  \\\n",
       "0  15-002600-000, Remove valve and free up  ...   \n",
       "\n",
       "                   System status Priority Estimated costs Total planned costs  \\\n",
       "0  CLSD DLFL NCMP NMAT PRC  SKKP        4             NaN                 NaN   \n",
       "\n",
       "  Total actual costs  Basic start date  Basic finish date  MaintActivityType  \\\n",
       "0                NaN               NaT                NaT                NaN   \n",
       "\n",
       "   Month  Year  \n",
       "0      9  2016  \n",
       "\n",
       "[1 rows x 24 columns]"
      ]
     },
     "execution_count": 4,
     "metadata": {},
     "output_type": "execute_result"
    }
   ],
   "source": [
    "df['Month'] = df['Created on'].apply(lambda x: x.month)\n",
    "df['Year'] = df['Created on'].apply(lambda x: x.year)\n",
    "df.head(1)"
   ]
  },
  {
   "cell_type": "code",
   "execution_count": 5,
   "metadata": {},
   "outputs": [
    {
     "data": {
      "text/plain": [
       "<matplotlib.axes._subplots.AxesSubplot at 0x208c7d7e4c8>"
      ]
     },
     "execution_count": 5,
     "metadata": {},
     "output_type": "execute_result"
    },
    {
     "data": {
      "image/png": "[encoded data removed]",
      "text/plain": [
       "<Figure size 864x288 with 1 Axes>"
      ]
     },
     "metadata": {
      "needs_background": "light"
     },
     "output_type": "display_data"
    }
   ],
   "source": [
    "plt.figure(figsize=(12,4))\n",
    "sns.countplot(x='Manual/ Auto',data=df,hue='Month',palette='coolwarm')"
   ]
  },
  {
   "cell_type": "code",
   "execution_count": 6,
   "metadata": {},
   "outputs": [
    {
     "data": {
      "text/plain": [
       "<matplotlib.axes._subplots.AxesSubplot at 0x208c9df3fc8>"
      ]
     },
     "execution_count": 6,
     "metadata": {},
     "output_type": "execute_result"
    },
    {
     "data": {
      "image/png": "[encoded data removed]",
      "text/plain": [
       "<Figure size 864x288 with 1 Axes>"
      ]
     },
     "metadata": {
      "needs_background": "light"
     },
     "output_type": "display_data"
    }
   ],
   "source": [
    "plt.figure(figsize=(12,4))\n",
    "sns.countplot(x='Manual/ Auto',data=df,hue='Year')"
   ]
  },
  {
   "cell_type": "code",
   "execution_count": 7,
   "metadata": {},
   "outputs": [
    {
     "data": {
      "text/plain": [
       "<matplotlib.axes._subplots.AxesSubplot at 0x208c9ea7448>"
      ]
     },
     "execution_count": 7,
     "metadata": {},
     "output_type": "execute_result"
    },
    {
     "data": {
      "image/png": "[encoded data removed]",
      "text/plain": [
       "<Figure size 864x288 with 1 Axes>"
      ]
     },
     "metadata": {
      "needs_background": "light"
     },
     "output_type": "display_data"
    }
   ],
   "source": [
    "#2018 == the year with the most manual maintenances\n",
    "df2018 = df[df['Year']==2018]\n",
    "plt.figure(figsize=(12,4))\n",
    "sns.countplot(x='Manual/ Auto',data=df2018,hue='Month',palette='coolwarm')"
   ]
  },
  {
   "cell_type": "code",
   "execution_count": 8,
   "metadata": {},
   "outputs": [
    {
     "data": {
      "text/plain": [
       "<matplotlib.axes._subplots.AxesSubplot at 0x208c9f43a88>"
      ]
     },
     "execution_count": 8,
     "metadata": {},
     "output_type": "execute_result"
    },
    {
     "data": {
      "image/png": "[encoded data removed]",
      "text/plain": [
       "<Figure size 864x288 with 1 Axes>"
      ]
     },
     "metadata": {
      "needs_background": "light"
     },
     "output_type": "display_data"
    }
   ],
   "source": [
    "df2019 = df[df['Year']==2019]\n",
    "plt.figure(figsize=(12,4))\n",
    "sns.countplot(x='Manual/ Auto',data=df2019,hue='Month',palette='coolwarm')"
   ]
  },
  {
   "cell_type": "code",
   "execution_count": 9,
   "metadata": {},
   "outputs": [
    {
     "data": {
      "text/plain": [
       "<matplotlib.axes._subplots.AxesSubplot at 0x208c9f58688>"
      ]
     },
     "execution_count": 9,
     "metadata": {},
     "output_type": "execute_result"
    },
    {
     "data": {
      "image/png": "[encoded data removed]",
      "text/plain": [
       "<Figure size 864x288 with 1 Axes>"
      ]
     },
     "metadata": {
      "needs_background": "light"
     },
     "output_type": "display_data"
    }
   ],
   "source": [
    "df2017 = df[df['Year']==2017]\n",
    "plt.figure(figsize=(12,4))\n",
    "sns.countplot(x='Manual/ Auto',data=df2017,hue='Month',palette='coolwarm')"
   ]
  },
  {
   "cell_type": "code",
   "execution_count": 10,
   "metadata": {},
   "outputs": [
    {
     "data": {
      "text/plain": [
       "<matplotlib.axes._subplots.AxesSubplot at 0x208ca09a408>"
      ]
     },
     "execution_count": 10,
     "metadata": {},
     "output_type": "execute_result"
    },
    {
     "data": {
      "image/png": "[encoded data removed]",
      "text/plain": [
       "<Figure size 864x288 with 1 Axes>"
      ]
     },
     "metadata": {
      "needs_background": "light"
     },
     "output_type": "display_data"
    }
   ],
   "source": [
    "df2016 = df[df['Year']==2016]\n",
    "plt.figure(figsize=(12,4))\n",
    "sns.countplot(x='Manual/ Auto',data=df2016,hue='Month',palette='coolwarm')"
   ]
  },
  {
   "cell_type": "code",
   "execution_count": 23,
   "metadata": {},
   "outputs": [],
   "source": [
    "#seems to have a consistent spike during month 8 every year"
   ]
  },
  {
   "cell_type": "code",
   "execution_count": null,
   "metadata": {},
   "outputs": [],
   "source": []
  },
  {
   "cell_type": "code",
   "execution_count": 34,
   "metadata": {},
   "outputs": [],
   "source": [
    "from tensorflow.keras.utils import to_categorical"
   ]
  },
  {
   "cell_type": "code",
   "execution_count": 41,
   "metadata": {},
   "outputs": [
    {
     "ename": "ValueError",
     "evalue": "invalid literal for int() with base 10: 'AUTO'",
     "output_type": "error",
     "traceback": [
      "\u001b[1;31m---------------------------------------------------------------------------\u001b[0m",
      "\u001b[1;31mValueError\u001b[0m                                Traceback (most recent call last)",
      "\u001b[1;32m<ipython-input-41-1657083c13c7>\u001b[0m in \u001b[0;36m<module>\u001b[1;34m\u001b[0m\n\u001b[0;32m      1\u001b[0m \u001b[0marr\u001b[0m \u001b[1;33m=\u001b[0m \u001b[0mnp\u001b[0m\u001b[1;33m.\u001b[0m\u001b[0marray\u001b[0m\u001b[1;33m(\u001b[0m\u001b[0mdf\u001b[0m\u001b[1;33m[\u001b[0m\u001b[1;34m'Manual/ Auto'\u001b[0m\u001b[1;33m]\u001b[0m\u001b[1;33m.\u001b[0m\u001b[0mvalues\u001b[0m\u001b[1;33m.\u001b[0m\u001b[0mtolist\u001b[0m\u001b[1;33m(\u001b[0m\u001b[1;33m)\u001b[0m\u001b[1;33m)\u001b[0m\u001b[1;33m\u001b[0m\u001b[1;33m\u001b[0m\u001b[0m\n\u001b[0;32m      2\u001b[0m \u001b[0marr\u001b[0m \u001b[1;33m=\u001b[0m \u001b[0marr\u001b[0m\u001b[1;33m.\u001b[0m\u001b[0mastype\u001b[0m\u001b[1;33m(\u001b[0m\u001b[1;34m'str'\u001b[0m\u001b[1;33m)\u001b[0m\u001b[1;33m\u001b[0m\u001b[1;33m\u001b[0m\u001b[0m\n\u001b[1;32m----> 3\u001b[1;33m \u001b[0mto_categorical\u001b[0m\u001b[1;33m(\u001b[0m\u001b[0marr\u001b[0m\u001b[1;33m,\u001b[0m\u001b[1;36m2\u001b[0m\u001b[1;33m)\u001b[0m\u001b[1;33m\u001b[0m\u001b[1;33m\u001b[0m\u001b[0m\n\u001b[0m",
      "\u001b[1;32m~\\Anaconda3\\lib\\site-packages\\tensorflow_core\\python\\keras\\utils\\np_utils.py\u001b[0m in \u001b[0;36mto_categorical\u001b[1;34m(y, num_classes, dtype)\u001b[0m\n\u001b[0;32m     38\u001b[0m       \u001b[0mlast\u001b[0m\u001b[1;33m.\u001b[0m\u001b[1;33m\u001b[0m\u001b[1;33m\u001b[0m\u001b[0m\n\u001b[0;32m     39\u001b[0m   \"\"\"\n\u001b[1;32m---> 40\u001b[1;33m   \u001b[0my\u001b[0m \u001b[1;33m=\u001b[0m \u001b[0mnp\u001b[0m\u001b[1;33m.\u001b[0m\u001b[0marray\u001b[0m\u001b[1;33m(\u001b[0m\u001b[0my\u001b[0m\u001b[1;33m,\u001b[0m \u001b[0mdtype\u001b[0m\u001b[1;33m=\u001b[0m\u001b[1;34m'int'\u001b[0m\u001b[1;33m)\u001b[0m\u001b[1;33m\u001b[0m\u001b[1;33m\u001b[0m\u001b[0m\n\u001b[0m\u001b[0;32m     41\u001b[0m   \u001b[0minput_shape\u001b[0m \u001b[1;33m=\u001b[0m \u001b[0my\u001b[0m\u001b[1;33m.\u001b[0m\u001b[0mshape\u001b[0m\u001b[1;33m\u001b[0m\u001b[1;33m\u001b[0m\u001b[0m\n\u001b[0;32m     42\u001b[0m   \u001b[1;32mif\u001b[0m \u001b[0minput_shape\u001b[0m \u001b[1;32mand\u001b[0m \u001b[0minput_shape\u001b[0m\u001b[1;33m[\u001b[0m\u001b[1;33m-\u001b[0m\u001b[1;36m1\u001b[0m\u001b[1;33m]\u001b[0m \u001b[1;33m==\u001b[0m \u001b[1;36m1\u001b[0m \u001b[1;32mand\u001b[0m \u001b[0mlen\u001b[0m\u001b[1;33m(\u001b[0m\u001b[0minput_shape\u001b[0m\u001b[1;33m)\u001b[0m \u001b[1;33m>\u001b[0m \u001b[1;36m1\u001b[0m\u001b[1;33m:\u001b[0m\u001b[1;33m\u001b[0m\u001b[1;33m\u001b[0m\u001b[0m\n",
      "\u001b[1;31mValueError\u001b[0m: invalid literal for int() with base 10: 'AUTO'"
     ]
    }
   ],
   "source": [
    "arr = np.array(df['Manual/ Auto'].values.tolist())\n",
    "arr = arr.astype('str')\n",
    "to_categorical(arr, 2)"
   ]
  },
  {
   "cell_type": "code",
   "execution_count": 12,
   "metadata": {},
   "outputs": [
    {
     "data": {
      "text/html": [
       "<div>\n",
       "<style scoped>\n",
       "    .dataframe tbody tr th:only-of-type {\n",
       "        vertical-align: middle;\n",
       "    }\n",
       "\n",
       "    .dataframe tbody tr th {\n",
       "        vertical-align: top;\n",
       "    }\n",
       "\n",
       "    .dataframe thead th {\n",
       "        text-align: right;\n",
       "    }\n",
       "</style>\n",
       "<table border=\"1\" class=\"dataframe\">\n",
       "  <thead>\n",
       "    <tr style=\"text-align: right;\">\n",
       "      <th></th>\n",
       "      <th>Order</th>\n",
       "      <th>Notification</th>\n",
       "      <th>Priority</th>\n",
       "      <th>Estimated costs</th>\n",
       "      <th>Total planned costs</th>\n",
       "      <th>Total actual costs</th>\n",
       "      <th>Month</th>\n",
       "      <th>Year</th>\n",
       "    </tr>\n",
       "  </thead>\n",
       "  <tbody>\n",
       "    <tr>\n",
       "      <td>Order</td>\n",
       "      <td>1.000000</td>\n",
       "      <td>0.537734</td>\n",
       "      <td>0.297263</td>\n",
       "      <td>0.017752</td>\n",
       "      <td>0.012438</td>\n",
       "      <td>-0.102155</td>\n",
       "      <td>-0.095224</td>\n",
       "      <td>0.541879</td>\n",
       "    </tr>\n",
       "    <tr>\n",
       "      <td>Notification</td>\n",
       "      <td>0.537734</td>\n",
       "      <td>1.000000</td>\n",
       "      <td>0.349305</td>\n",
       "      <td>-0.081592</td>\n",
       "      <td>-0.057878</td>\n",
       "      <td>-0.132824</td>\n",
       "      <td>0.036048</td>\n",
       "      <td>0.103279</td>\n",
       "    </tr>\n",
       "    <tr>\n",
       "      <td>Priority</td>\n",
       "      <td>0.297263</td>\n",
       "      <td>0.349305</td>\n",
       "      <td>1.000000</td>\n",
       "      <td>NaN</td>\n",
       "      <td>NaN</td>\n",
       "      <td>NaN</td>\n",
       "      <td>0.040567</td>\n",
       "      <td>0.002233</td>\n",
       "    </tr>\n",
       "    <tr>\n",
       "      <td>Estimated costs</td>\n",
       "      <td>0.017752</td>\n",
       "      <td>-0.081592</td>\n",
       "      <td>NaN</td>\n",
       "      <td>1.000000</td>\n",
       "      <td>0.796814</td>\n",
       "      <td>0.628916</td>\n",
       "      <td>-0.174541</td>\n",
       "      <td>0.162119</td>\n",
       "    </tr>\n",
       "    <tr>\n",
       "      <td>Total planned costs</td>\n",
       "      <td>0.012438</td>\n",
       "      <td>-0.057878</td>\n",
       "      <td>NaN</td>\n",
       "      <td>0.796814</td>\n",
       "      <td>1.000000</td>\n",
       "      <td>0.687007</td>\n",
       "      <td>-0.156707</td>\n",
       "      <td>0.150280</td>\n",
       "    </tr>\n",
       "    <tr>\n",
       "      <td>Total actual costs</td>\n",
       "      <td>-0.102155</td>\n",
       "      <td>-0.132824</td>\n",
       "      <td>NaN</td>\n",
       "      <td>0.628916</td>\n",
       "      <td>0.687007</td>\n",
       "      <td>1.000000</td>\n",
       "      <td>-0.159246</td>\n",
       "      <td>0.075920</td>\n",
       "    </tr>\n",
       "    <tr>\n",
       "      <td>Month</td>\n",
       "      <td>-0.095224</td>\n",
       "      <td>0.036048</td>\n",
       "      <td>0.040567</td>\n",
       "      <td>-0.174541</td>\n",
       "      <td>-0.156707</td>\n",
       "      <td>-0.159246</td>\n",
       "      <td>1.000000</td>\n",
       "      <td>-0.366096</td>\n",
       "    </tr>\n",
       "    <tr>\n",
       "      <td>Year</td>\n",
       "      <td>0.541879</td>\n",
       "      <td>0.103279</td>\n",
       "      <td>0.002233</td>\n",
       "      <td>0.162119</td>\n",
       "      <td>0.150280</td>\n",
       "      <td>0.075920</td>\n",
       "      <td>-0.366096</td>\n",
       "      <td>1.000000</td>\n",
       "    </tr>\n",
       "  </tbody>\n",
       "</table>\n",
       "</div>"
      ],
      "text/plain": [
       "                        Order  Notification  Priority  Estimated costs  \\\n",
       "Order                1.000000      0.537734  0.297263         0.017752   \n",
       "Notification         0.537734      1.000000  0.349305        -0.081592   \n",
       "Priority             0.297263      0.349305  1.000000              NaN   \n",
       "Estimated costs      0.017752     -0.081592       NaN         1.000000   \n",
       "Total planned costs  0.012438     -0.057878       NaN         0.796814   \n",
       "Total actual costs  -0.102155     -0.132824       NaN         0.628916   \n",
       "Month               -0.095224      0.036048  0.040567        -0.174541   \n",
       "Year                 0.541879      0.103279  0.002233         0.162119   \n",
       "\n",
       "                     Total planned costs  Total actual costs     Month  \\\n",
       "Order                           0.012438           -0.102155 -0.095224   \n",
       "Notification                   -0.057878           -0.132824  0.036048   \n",
       "Priority                             NaN                 NaN  0.040567   \n",
       "Estimated costs                 0.796814            0.628916 -0.174541   \n",
       "Total planned costs             1.000000            0.687007 -0.156707   \n",
       "Total actual costs              0.687007            1.000000 -0.159246   \n",
       "Month                          -0.156707           -0.159246  1.000000   \n",
       "Year                            0.150280            0.075920 -0.366096   \n",
       "\n",
       "                         Year  \n",
       "Order                0.541879  \n",
       "Notification         0.103279  \n",
       "Priority             0.002233  \n",
       "Estimated costs      0.162119  \n",
       "Total planned costs  0.150280  \n",
       "Total actual costs   0.075920  \n",
       "Month               -0.366096  \n",
       "Year                 1.000000  "
      ]
     },
     "execution_count": 12,
     "metadata": {},
     "output_type": "execute_result"
    }
   ],
   "source": [
    "#IGNORE FOR NOW\n",
    "df.corr()"
   ]
  },
  {
   "cell_type": "code",
   "execution_count": 13,
   "metadata": {},
   "outputs": [
    {
     "data": {
      "text/plain": [
       "<matplotlib.axes._subplots.AxesSubplot at 0x208ca124e88>"
      ]
     },
     "execution_count": 13,
     "metadata": {},
     "output_type": "execute_result"
    },
    {
     "data": {
      "image/png": "[encoded data removed]",
      "text/plain": [
       "<Figure size 864x864 with 2 Axes>"
      ]
     },
     "metadata": {
      "needs_background": "light"
     },
     "output_type": "display_data"
    }
   ],
   "source": [
    "##IGNORE FOR NOW\n",
    "plt.figure(figsize=(12,12))\n",
    "sns.heatmap(df.corr(),annot=True,cmap='viridis')"
   ]
  },
  {
   "cell_type": "code",
   "execution_count": null,
   "metadata": {},
   "outputs": [],
   "source": []
  }
 ],
 "metadata": {
  "kernelspec": {
   "display_name": "Python 3",
   "language": "python",
   "name": "python3"
  },
  "language_info": {
   "codemirror_mode": {
    "name": "ipython",
    "version": 3
   },
   "file_extension": ".py",
   "mimetype": "text/x-python",
   "name": "python",
   "nbconvert_exporter": "python",
   "pygments_lexer": "ipython3",
   "version": "3.7.6"
  }
 },
 "nbformat": 4,
 "nbformat_minor": 2
}
