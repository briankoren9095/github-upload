{
 "cells": [
  {
   "cell_type": "code",
   "execution_count": 3,
   "metadata": {},
   "outputs": [
    {
     "name": "stderr",
     "output_type": "stream",
     "text": [
      "Using TensorFlow backend.\n"
     ]
    }
   ],
   "source": [
    "import numpy as np\n",
    "import pandas as pd\n",
    "from keras.preprocessing.text import Tokenizer\n",
    "from nltk.corpus import stopwords\n",
    "import string\n",
    "import matplotlib.pyplot as plt\n",
    "%matplotlib inline"
   ]
  },
  {
   "cell_type": "code",
   "execution_count": 4,
   "metadata": {},
   "outputs": [],
   "source": [
    "df = pd.read_excel(\"2019-10-24 SAP Work Order & Notification Report.xlsx\",sheet_name='INFO')"
   ]
  },
  {
   "cell_type": "markdown",
   "metadata": {},
   "source": [
    "           Copy and paste the neede equipment number.\n",
    "           \n",
    "       'BL000000005-10-035', 'BL000000101-12-206', 'BL000000104-09-851',\n",
    "       'BL000000154-12-730', 'BL000000101-09-333', 'BL000000005-10-084',\n",
    "       'BL000000155-12-600', 'BL000000005-10-306', 'BL000000105-09-969',\n",
    "       'BL000000104-12-455', 'BL000000101-12-002', 'BL000000157-12-034',\n",
    "       'BL000000152-12-711', 'BL000000104-10-442', 'BL00000104-09-859M',\n",
    "       'BL000000007-09-781', 'BL000000005-10-001', 'BL000000101-29-202',\n",
    "       'BL000000104-09-862', 'BL000000104-09-869', 'BL000000101-29-200',\n",
    "       'BL000000007-09-780', 'BL000000104-09-860', 'BL000000101-12-067',\n",
    "       'BL000000101-09-004', 'BL000000005-10-002', 'BL000000101-19-011',\n",
    "       'BL000000101-08-206', 'BL000000104-09-884', 'BL00000104-10-439M',\n",
    "       'BL000000104-10-439', 'BL000000104-09-850', 'BL000000104-09-859',\n",
    "       'BL000000104-09-883', 'BL000000101-09-335', 'BL000000101-09-003',\n",
    "       'BL000000104-10-443', 'BL000000101-08-062', 'BL000000101-29-004',\n",
    "       'BL000000101-09-334', 'BL000000101-29-201', 'BL000000101-09-338',\n",
    "       'BL000000101-08-063', 'BL000000151-12-702', 'BL00000101-09-003M',\n",
    "       'BL000000101-29-203', 'BL00000104-09-850M', 'BL00000104-09-851M',\n",
    "       'BL000155-PSL-15312', 'BL000000104-10-445', 'BL000000104-10-441'"
   ]
  },
  {
   "cell_type": "code",
   "execution_count": 5,
   "metadata": {},
   "outputs": [
    {
     "name": "stdout",
     "output_type": "stream",
     "text": [
      "Enter Equipment #: BL000000104-10-442\n"
     ]
    },
    {
     "data": {
      "text/plain": [
       "24               [lRebuild, booster, blower]\n",
       "47             [WATER, GAUGE, COOLING, FLOW]\n",
       "95                   [PARTS, BOOSTER, ORDER]\n",
       "97                    [failed, meters, flow]\n",
       "156                [Remove, rebuild, blower]\n",
       "161             [gearbox, valve, Order, new]\n",
       "288     [Vac, replace, booster, Order, flex]\n",
       "509         [Replace, Small, Spare, Booster]\n",
       "782               [TA, VAC, BOOSTER, BLOWER]\n",
       "1141              [TA, VAC, BOOSTER, BLOWER]\n",
       "Name: Description, dtype: object"
      ]
     },
     "execution_count": 5,
     "metadata": {},
     "output_type": "execute_result"
    }
   ],
   "source": [
    "question = input(\"Enter Equipment #: \")\n",
    "df2 = df[df['Equipment']==question]\n",
    "df2.head(1)\n",
    "\n",
    "texts = df2['Description']\n",
    "unique_words = set(word.lower() for phrase in texts for word in phrase.split(\" \"))\n",
    "\n",
    "def text_processing(texts):\n",
    "    words = [char for char in texts if char not in string.punctuation]\n",
    "    words = ''.join(words)\n",
    "    clean = [word for word in words.split() if word.lower() not in stopwords.words('english')]\n",
    "    cleanv1 = [word for word in clean if word.lower().find('a') >= 0]\n",
    "    cleanv2 = [word for word in clean if word.lower().find('e') >= 0]\n",
    "    cleanv3 = [word for word in clean if word.lower().find('i') >= 0]\n",
    "    cleanv4 = [word for word in clean if word.lower().find('o') >= 0]\n",
    "    cleanv5 = [word for word in clean if word.lower().find('u') >= 0]\n",
    "    clean2 = cleanv1 + cleanv2 + cleanv3 + cleanv4 + cleanv5\n",
    "    dfclean = pd.Series( (v for v in clean2) )\n",
    "    return dfclean.unique()\n",
    "\n",
    "texts.apply(text_processing)\n"
   ]
  },
  {
   "cell_type": "code",
   "execution_count": null,
   "metadata": {},
   "outputs": [],
   "source": []
  }
 ],
 "metadata": {
  "kernelspec": {
   "display_name": "Python 3",
   "language": "python",
   "name": "python3"
  },
  "language_info": {
   "codemirror_mode": {
    "name": "ipython",
    "version": 3
   },
   "file_extension": ".py",
   "mimetype": "text/x-python",
   "name": "python",
   "nbconvert_exporter": "python",
   "pygments_lexer": "ipython3",
   "version": "3.7.6"
  }
 },
 "nbformat": 4,
 "nbformat_minor": 2
}
